{
 "cells": [
  {
   "cell_type": "markdown",
   "metadata": {},
   "source": [
    "# Importing Data"
   ]
  },
  {
   "cell_type": "code",
   "execution_count": 6,
   "metadata": {
    "collapsed": true
   },
   "outputs": [],
   "source": [
    "import os\n",
    "import urllib.request"
   ]
  },
  {
   "cell_type": "code",
   "execution_count": 7,
   "metadata": {
    "collapsed": true
   },
   "outputs": [],
   "source": [
    "os.sys.path.append('../src')\n",
    "import import_data"
   ]
  },
  {
   "cell_type": "markdown",
   "metadata": {},
   "source": [
    "## Download csv data"
   ]
  },
  {
   "cell_type": "code",
   "execution_count": 11,
   "metadata": {},
   "outputs": [
    {
     "data": {
      "text/plain": [
       "('/home/rafael/inbox/ai/Python-Data-Science-Notebooks/data/csv/car.data',\n",
       " <http.client.HTTPMessage at 0x7f088004f208>)"
      ]
     },
     "execution_count": 11,
     "metadata": {},
     "output_type": "execute_result"
    }
   ],
   "source": [
    "data_url = 'https://archive.ics.uci.edu/ml/machine-learning-databases/car/car.data'\n",
    "data_path = os.path.abspath(os.path.relpath('../data'))\n",
    "csv_dir = os.path.join(data_path, 'csv/')\n",
    "csv_path = os.path.join(csv_dir, 'car.data')\n",
    "\n",
    "if not os.path.isdir(csv_dir):\n",
    "    os.makedirs(csv_dir)\n",
    "\n",
    "urllib.request.urlretrieve(data_url, csv_path)"
   ]
  },
  {
   "cell_type": "code",
   "execution_count": 12,
   "metadata": {},
   "outputs": [
    {
     "name": "stdout",
     "output_type": "stream",
     "text": [
      "car.data\n"
     ]
    }
   ],
   "source": [
    "%%bash\n",
    "\n",
    "ls ../data/csv"
   ]
  },
  {
   "cell_type": "markdown",
   "metadata": {},
   "source": [
    "## Download tgz data"
   ]
  },
  {
   "cell_type": "code",
   "execution_count": 13,
   "metadata": {
    "collapsed": true
   },
   "outputs": [],
   "source": [
    "data_url = 'https://sourceforge.net/projects/weka/files/datasets/regression-datasets/datasets-arie_ben_david.tar.gz/download?use_mirror=ufpr'\n",
    "\n",
    "import_data.fetch_tgz_data(data_url, 'datasets-arie_ben_david.tar.gz', 'tgz/')"
   ]
  },
  {
   "cell_type": "code",
   "execution_count": 14,
   "metadata": {},
   "outputs": [
    {
     "name": "stdout",
     "output_type": "stream",
     "text": [
      "ERA.arff\n",
      "ESL.arff\n",
      "LEV.arff\n",
      "README\n",
      "SWD.arff\n"
     ]
    }
   ],
   "source": [
    "%%bash\n",
    "\n",
    "ls ../data/tgz"
   ]
  },
  {
   "cell_type": "markdown",
   "metadata": {},
   "source": [
    "## Download zip data"
   ]
  },
  {
   "cell_type": "code",
   "execution_count": 15,
   "metadata": {},
   "outputs": [],
   "source": [
    "data_url = 'https://archive.ics.uci.edu/ml/machine-learning-databases/00222/bank.zip'\n",
    "\n",
    "import_data.fetch_zip_data(data_url, 'bank.zip', 'zip/')"
   ]
  },
  {
   "cell_type": "code",
   "execution_count": 16,
   "metadata": {},
   "outputs": [
    {
     "name": "stdout",
     "output_type": "stream",
     "text": [
      "bank.csv\n",
      "bank-full.csv\n",
      "bank-names.txt\n"
     ]
    }
   ],
   "source": [
    "%%bash\n",
    "\n",
    "ls ../data/zip"
   ]
  }
 ],
 "metadata": {
  "kernelspec": {
   "display_name": "Python 3",
   "language": "python",
   "name": "python3"
  },
  "language_info": {
   "codemirror_mode": {
    "name": "ipython",
    "version": 3
   },
   "file_extension": ".py",
   "mimetype": "text/x-python",
   "name": "python",
   "nbconvert_exporter": "python",
   "pygments_lexer": "ipython3",
   "version": "3.6.2"
  }
 },
 "nbformat": 4,
 "nbformat_minor": 2
}

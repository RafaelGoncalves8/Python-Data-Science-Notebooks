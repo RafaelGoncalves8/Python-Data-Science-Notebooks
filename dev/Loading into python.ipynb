{
 "cells": [
  {
   "cell_type": "markdown",
   "metadata": {},
   "source": [
    "# Loading into Python"
   ]
  },
  {
   "cell_type": "code",
   "execution_count": 16,
   "metadata": {},
   "outputs": [],
   "source": [
    "import os, csv\n",
    "import numpy as np\n",
    "import pandas as pd"
   ]
  },
  {
   "cell_type": "code",
   "execution_count": 2,
   "metadata": {},
   "outputs": [],
   "source": [
    "dev = os.path.abspath(os.path.dirname('__file__'))\n",
    "data = os.path.abspath(os.path.relpath('../data/', dev))"
   ]
  },
  {
   "cell_type": "markdown",
   "metadata": {},
   "source": [
    "## CSV"
   ]
  },
  {
   "cell_type": "code",
   "execution_count": 3,
   "metadata": {},
   "outputs": [
    {
     "name": "stdout",
     "output_type": "stream",
     "text": [
      "car.data\n"
     ]
    }
   ],
   "source": [
    "%%bash\n",
    "\n",
    "ls ../data/csv"
   ]
  },
  {
   "cell_type": "code",
   "execution_count": 4,
   "metadata": {},
   "outputs": [
    {
     "name": "stdout",
     "output_type": "stream",
     "text": [
      "vhigh,vhigh,2,2,small,low,unacc\n",
      "vhigh,vhigh,2,2,small,med,unacc\n",
      "vhigh,vhigh,2,2,small,high,unacc\n",
      "vhigh,vhigh,2,2,med,low,unacc\n",
      "vhigh,vhigh,2,2,med,med,unacc\n",
      "vhigh,vhigh,2,2,med,high,unacc\n",
      "vhigh,vhigh,2,2,big,low,unacc\n",
      "vhigh,vhigh,2,2,big,med,unacc\n",
      "vhigh,vhigh,2,2,big,high,unacc\n",
      "vhigh,vhigh,2,4,small,low,unacc\n"
     ]
    }
   ],
   "source": [
    "%%bash\n",
    "\n",
    "head ../data/csv/car.data"
   ]
  },
  {
   "cell_type": "code",
   "execution_count": 13,
   "metadata": {},
   "outputs": [],
   "source": [
    "csv_data = []\n",
    "with open(os.path.join(data, 'csv/car.data'), 'r') as file:\n",
    "    csv_reader = csv.reader(file)\n",
    "    for l in csv_reader:\n",
    "        csv_data.append(l)"
   ]
  },
  {
   "cell_type": "code",
   "execution_count": 14,
   "metadata": {},
   "outputs": [
    {
     "name": "stdout",
     "output_type": "stream",
     "text": [
      "['vhigh', 'vhigh', '2', '2', 'small', 'low', 'unacc']\n",
      "['vhigh', 'vhigh', '2', '2', 'small', 'med', 'unacc']\n",
      "['vhigh', 'vhigh', '2', '2', 'small', 'high', 'unacc']\n",
      "['vhigh', 'vhigh', '2', '2', 'med', 'low', 'unacc']\n",
      "['vhigh', 'vhigh', '2', '2', 'med', 'med', 'unacc']\n"
     ]
    }
   ],
   "source": [
    "for e in csv_data[:5]: print(e)"
   ]
  },
  {
   "cell_type": "code",
   "execution_count": 46,
   "metadata": {},
   "outputs": [
    {
     "data": {
      "text/plain": [
       "1728"
      ]
     },
     "execution_count": 46,
     "metadata": {},
     "output_type": "execute_result"
    }
   ],
   "source": [
    "len(csv_data)"
   ]
  },
  {
   "cell_type": "markdown",
   "metadata": {},
   "source": [
    "## Numpy"
   ]
  },
  {
   "cell_type": "code",
   "execution_count": 51,
   "metadata": {},
   "outputs": [
    {
     "name": "stdout",
     "output_type": "stream",
     "text": [
      "% 1. Title: Employee Rejection\\Acceptance  (Orinal ERA)\n",
      "% \n",
      "% 2. Source Informaion:\n",
      "%    Donor: Arie Ben David\n",
      "%           MIS, Dept. of Technology Management \n",
      "%           Holon Academic Inst. of Technology\n",
      "%           52 Golomb St.\n",
      "%           Holon 58102\n",
      "%           Israel\n",
      "%           abendav@hait.ac.il\n",
      "%    Owner: Yoav Ganzah\n",
      "%           Business Administration School\n",
      "%           Tel Aviv Univerity\n",
      "%           Ramat Aviv 69978\n",
      "%           Israel\n",
      "% \n",
      "% 3. Past Usage:\n",
      "% \n",
      "% 4. Relevant Information \n",
      "% The ERA data set was originally gathered during an academic decision-making\n",
      "% experiment aiming at determining which are the most important qualities of\n",
      "% candidates for a certain type of jobs. Unlike the ESL data set (enclosed)\n",
      "% which was collected from expert recruiters, this data set was collected\n",
      "% during a MBA academic course. \n",
      "% The input in the data set are features of a candidates such as past\n",
      "% experience, verbal skills, etc., and the output is the subjective judgment of\n",
      "% a decision-maker to which degree he or she tends to accept the applicant to\n",
      "% the job or to reject him altogether (the lowest score means total tendency to\n",
      "% reject an applicant and vice versa).\n",
      "% \n",
      "% 5. Number of Instances: 1000\n",
      "% \n",
      "% 6. Number of Attributes: 4 input, 1 output.\n",
      "% \n",
      "% 7. Attribute Information: All input and output values are ORDINAL. \n",
      "% \n",
      "% 8. Missing Attribute Values: None.\n",
      "% \n",
      "% 9. Class Distribution:\n",
      "\n",
      "@relation ERA\n",
      "\n",
      "@attribute in1 numeric\n",
      "@attribute in2 numeric\n",
      "@attribute in3 numeric\n",
      "@attribute in4 numeric\n",
      "@attribute out1 numeric\n",
      "\n",
      "@data\n",
      "13,6,12,2,4\n"
     ]
    }
   ],
   "source": [
    "%%bash\n",
    "\n",
    "head -n 50 ../data/tgz/ERA.arff"
   ]
  },
  {
   "cell_type": "code",
   "execution_count": 45,
   "metadata": {},
   "outputs": [
    {
     "data": {
      "text/plain": [
       "array([[ 13.,   6.,  12.,   2.,   4.],\n",
       "       [  2.,   7.,   9.,   2.,   2.],\n",
       "       [ 12.,   8.,   7.,   6.,   7.],\n",
       "       ..., \n",
       "       [  1.,   2.,  12.,   4.,   3.],\n",
       "       [  1.,   2.,  12.,   6.,   2.],\n",
       "       [ 10.,   3.,   6.,  14.,   2.]])"
      ]
     },
     "execution_count": 45,
     "metadata": {},
     "output_type": "execute_result"
    }
   ],
   "source": [
    "np_data = np.genfromtxt(os.path.join(data, 'tgz/ERA.arff'), delimiter=',', skip_header=49)\n",
    "np_data"
   ]
  },
  {
   "cell_type": "code",
   "execution_count": 59,
   "metadata": {},
   "outputs": [
    {
     "data": {
      "text/plain": [
       "(1000, 5)"
      ]
     },
     "execution_count": 59,
     "metadata": {},
     "output_type": "execute_result"
    }
   ],
   "source": [
    "np_data.shape"
   ]
  },
  {
   "cell_type": "markdown",
   "metadata": {},
   "source": [
    "## Pandas"
   ]
  },
  {
   "cell_type": "code",
   "execution_count": 20,
   "metadata": {},
   "outputs": [
    {
     "name": "stdout",
     "output_type": "stream",
     "text": [
      "\"age\";\"job\";\"marital\";\"education\";\"default\";\"balance\";\"housing\";\"loan\";\"contact\";\"day\";\"month\";\"duration\";\"campaign\";\"pdays\";\"previous\";\"poutcome\";\"y\"\n",
      "30;\"unemployed\";\"married\";\"primary\";\"no\";1787;\"no\";\"no\";\"cellular\";19;\"oct\";79;1;-1;0;\"unknown\";\"no\"\n",
      "33;\"services\";\"married\";\"secondary\";\"no\";4789;\"yes\";\"yes\";\"cellular\";11;\"may\";220;1;339;4;\"failure\";\"no\"\n",
      "35;\"management\";\"single\";\"tertiary\";\"no\";1350;\"yes\";\"no\";\"cellular\";16;\"apr\";185;1;330;1;\"failure\";\"no\"\n",
      "30;\"management\";\"married\";\"tertiary\";\"no\";1476;\"yes\";\"yes\";\"unknown\";3;\"jun\";199;4;-1;0;\"unknown\";\"no\"\n",
      "59;\"blue-collar\";\"married\";\"secondary\";\"no\";0;\"yes\";\"no\";\"unknown\";5;\"may\";226;1;-1;0;\"unknown\";\"no\"\n",
      "35;\"management\";\"single\";\"tertiary\";\"no\";747;\"no\";\"no\";\"cellular\";23;\"feb\";141;2;176;3;\"failure\";\"no\"\n",
      "36;\"self-employed\";\"married\";\"tertiary\";\"no\";307;\"yes\";\"no\";\"cellular\";14;\"may\";341;1;330;2;\"other\";\"no\"\n",
      "39;\"technician\";\"married\";\"secondary\";\"no\";147;\"yes\";\"no\";\"cellular\";6;\"may\";151;2;-1;0;\"unknown\";\"no\"\n",
      "41;\"entrepreneur\";\"married\";\"tertiary\";\"no\";221;\"yes\";\"no\";\"unknown\";14;\"may\";57;2;-1;0;\"unknown\";\"no\"\n"
     ]
    }
   ],
   "source": [
    "%%bash\n",
    "\n",
    "head ../data/zip/bank.csv"
   ]
  },
  {
   "cell_type": "code",
   "execution_count": 56,
   "metadata": {},
   "outputs": [],
   "source": [
    "pd_data = pd.read_csv(os.path.join(data, 'zip/bank.csv'), delimiter=\";\")"
   ]
  },
  {
   "cell_type": "code",
   "execution_count": 57,
   "metadata": {},
   "outputs": [
    {
     "data": {
      "text/html": [
       "<div>\n",
       "<style>\n",
       "    .dataframe thead tr:only-child th {\n",
       "        text-align: right;\n",
       "    }\n",
       "\n",
       "    .dataframe thead th {\n",
       "        text-align: left;\n",
       "    }\n",
       "\n",
       "    .dataframe tbody tr th {\n",
       "        vertical-align: top;\n",
       "    }\n",
       "</style>\n",
       "<table border=\"1\" class=\"dataframe\">\n",
       "  <thead>\n",
       "    <tr style=\"text-align: right;\">\n",
       "      <th></th>\n",
       "      <th>age</th>\n",
       "      <th>job</th>\n",
       "      <th>marital</th>\n",
       "      <th>education</th>\n",
       "      <th>default</th>\n",
       "      <th>balance</th>\n",
       "      <th>housing</th>\n",
       "      <th>loan</th>\n",
       "      <th>contact</th>\n",
       "      <th>day</th>\n",
       "      <th>month</th>\n",
       "      <th>duration</th>\n",
       "      <th>campaign</th>\n",
       "      <th>pdays</th>\n",
       "      <th>previous</th>\n",
       "      <th>poutcome</th>\n",
       "      <th>y</th>\n",
       "    </tr>\n",
       "  </thead>\n",
       "  <tbody>\n",
       "    <tr>\n",
       "      <th>0</th>\n",
       "      <td>30</td>\n",
       "      <td>unemployed</td>\n",
       "      <td>married</td>\n",
       "      <td>primary</td>\n",
       "      <td>no</td>\n",
       "      <td>1787</td>\n",
       "      <td>no</td>\n",
       "      <td>no</td>\n",
       "      <td>cellular</td>\n",
       "      <td>19</td>\n",
       "      <td>oct</td>\n",
       "      <td>79</td>\n",
       "      <td>1</td>\n",
       "      <td>-1</td>\n",
       "      <td>0</td>\n",
       "      <td>unknown</td>\n",
       "      <td>no</td>\n",
       "    </tr>\n",
       "    <tr>\n",
       "      <th>1</th>\n",
       "      <td>33</td>\n",
       "      <td>services</td>\n",
       "      <td>married</td>\n",
       "      <td>secondary</td>\n",
       "      <td>no</td>\n",
       "      <td>4789</td>\n",
       "      <td>yes</td>\n",
       "      <td>yes</td>\n",
       "      <td>cellular</td>\n",
       "      <td>11</td>\n",
       "      <td>may</td>\n",
       "      <td>220</td>\n",
       "      <td>1</td>\n",
       "      <td>339</td>\n",
       "      <td>4</td>\n",
       "      <td>failure</td>\n",
       "      <td>no</td>\n",
       "    </tr>\n",
       "    <tr>\n",
       "      <th>2</th>\n",
       "      <td>35</td>\n",
       "      <td>management</td>\n",
       "      <td>single</td>\n",
       "      <td>tertiary</td>\n",
       "      <td>no</td>\n",
       "      <td>1350</td>\n",
       "      <td>yes</td>\n",
       "      <td>no</td>\n",
       "      <td>cellular</td>\n",
       "      <td>16</td>\n",
       "      <td>apr</td>\n",
       "      <td>185</td>\n",
       "      <td>1</td>\n",
       "      <td>330</td>\n",
       "      <td>1</td>\n",
       "      <td>failure</td>\n",
       "      <td>no</td>\n",
       "    </tr>\n",
       "    <tr>\n",
       "      <th>3</th>\n",
       "      <td>30</td>\n",
       "      <td>management</td>\n",
       "      <td>married</td>\n",
       "      <td>tertiary</td>\n",
       "      <td>no</td>\n",
       "      <td>1476</td>\n",
       "      <td>yes</td>\n",
       "      <td>yes</td>\n",
       "      <td>unknown</td>\n",
       "      <td>3</td>\n",
       "      <td>jun</td>\n",
       "      <td>199</td>\n",
       "      <td>4</td>\n",
       "      <td>-1</td>\n",
       "      <td>0</td>\n",
       "      <td>unknown</td>\n",
       "      <td>no</td>\n",
       "    </tr>\n",
       "    <tr>\n",
       "      <th>4</th>\n",
       "      <td>59</td>\n",
       "      <td>blue-collar</td>\n",
       "      <td>married</td>\n",
       "      <td>secondary</td>\n",
       "      <td>no</td>\n",
       "      <td>0</td>\n",
       "      <td>yes</td>\n",
       "      <td>no</td>\n",
       "      <td>unknown</td>\n",
       "      <td>5</td>\n",
       "      <td>may</td>\n",
       "      <td>226</td>\n",
       "      <td>1</td>\n",
       "      <td>-1</td>\n",
       "      <td>0</td>\n",
       "      <td>unknown</td>\n",
       "      <td>no</td>\n",
       "    </tr>\n",
       "  </tbody>\n",
       "</table>\n",
       "</div>"
      ],
      "text/plain": [
       "   age          job  marital  education default  balance housing loan  \\\n",
       "0   30   unemployed  married    primary      no     1787      no   no   \n",
       "1   33     services  married  secondary      no     4789     yes  yes   \n",
       "2   35   management   single   tertiary      no     1350     yes   no   \n",
       "3   30   management  married   tertiary      no     1476     yes  yes   \n",
       "4   59  blue-collar  married  secondary      no        0     yes   no   \n",
       "\n",
       "    contact  day month  duration  campaign  pdays  previous poutcome   y  \n",
       "0  cellular   19   oct        79         1     -1         0  unknown  no  \n",
       "1  cellular   11   may       220         1    339         4  failure  no  \n",
       "2  cellular   16   apr       185         1    330         1  failure  no  \n",
       "3   unknown    3   jun       199         4     -1         0  unknown  no  \n",
       "4   unknown    5   may       226         1     -1         0  unknown  no  "
      ]
     },
     "execution_count": 57,
     "metadata": {},
     "output_type": "execute_result"
    }
   ],
   "source": [
    "pd_data.head()"
   ]
  },
  {
   "cell_type": "code",
   "execution_count": 60,
   "metadata": {},
   "outputs": [
    {
     "data": {
      "text/plain": [
       "<bound method DataFrame.info of       age            job   marital  education default  balance housing loan  \\\n",
       "0      30     unemployed   married    primary      no     1787      no   no   \n",
       "1      33       services   married  secondary      no     4789     yes  yes   \n",
       "2      35     management    single   tertiary      no     1350     yes   no   \n",
       "3      30     management   married   tertiary      no     1476     yes  yes   \n",
       "4      59    blue-collar   married  secondary      no        0     yes   no   \n",
       "5      35     management    single   tertiary      no      747      no   no   \n",
       "6      36  self-employed   married   tertiary      no      307     yes   no   \n",
       "7      39     technician   married  secondary      no      147     yes   no   \n",
       "8      41   entrepreneur   married   tertiary      no      221     yes   no   \n",
       "9      43       services   married    primary      no      -88     yes  yes   \n",
       "10     39       services   married  secondary      no     9374     yes   no   \n",
       "11     43         admin.   married  secondary      no      264     yes   no   \n",
       "12     36     technician   married   tertiary      no     1109      no   no   \n",
       "13     20        student    single  secondary      no      502      no   no   \n",
       "14     31    blue-collar   married  secondary      no      360     yes  yes   \n",
       "15     40     management   married   tertiary      no      194      no  yes   \n",
       "16     56     technician   married  secondary      no     4073      no   no   \n",
       "17     37         admin.    single   tertiary      no     2317     yes   no   \n",
       "18     25    blue-collar    single    primary      no     -221     yes   no   \n",
       "19     31       services   married  secondary      no      132      no   no   \n",
       "20     38     management  divorced    unknown      no        0     yes   no   \n",
       "21     42     management  divorced   tertiary      no       16      no   no   \n",
       "22     44       services    single  secondary      no      106      no   no   \n",
       "23     44   entrepreneur   married  secondary      no       93      no   no   \n",
       "24     26      housemaid   married   tertiary      no      543      no   no   \n",
       "25     41     management   married   tertiary      no     5883      no   no   \n",
       "26     55    blue-collar   married    primary      no      627     yes   no   \n",
       "27     67        retired   married    unknown      no      696      no   no   \n",
       "28     56  self-employed   married  secondary      no      784      no  yes   \n",
       "29     53         admin.   married  secondary      no      105      no  yes   \n",
       "...   ...            ...       ...        ...     ...      ...     ...  ...   \n",
       "4491   35    blue-collar    single  secondary      no        0     yes   no   \n",
       "4492   32     technician    single  secondary      no      309     yes  yes   \n",
       "4493   28     technician    single   tertiary      no        0     yes   no   \n",
       "4494   26     technician    single  secondary      no      668     yes   no   \n",
       "4495   48     management   married   tertiary      no     1175     yes   no   \n",
       "4496   30    blue-collar    single  secondary      no      363      no   no   \n",
       "4497   31   entrepreneur    single   tertiary      no       38      no   no   \n",
       "4498   31     management   married   tertiary      no     1183     yes   no   \n",
       "4499   45    blue-collar  divorced    primary      no      942      no   no   \n",
       "4500   38         admin.   married  secondary      no     4196     yes   no   \n",
       "4501   34     management   married   tertiary      no      297     yes   no   \n",
       "4502   42       services   married  secondary      no      -91     yes  yes   \n",
       "4503   60  self-employed   married    primary      no      362      no  yes   \n",
       "4504   42    blue-collar    single  secondary      no     1080     yes  yes   \n",
       "4505   32         admin.    single  secondary      no      620     yes   no   \n",
       "4506   42     unemployed  divorced   tertiary      no     -166      no   no   \n",
       "4507   33       services   married  secondary      no      288     yes   no   \n",
       "4508   42         admin.   married    unknown      no      642     yes  yes   \n",
       "4509   51     technician   married   tertiary      no     2506      no   no   \n",
       "4510   36     technician  divorced  secondary      no      566     yes   no   \n",
       "4511   46    blue-collar   married  secondary      no      668     yes   no   \n",
       "4512   40    blue-collar   married  secondary      no     1100     yes   no   \n",
       "4513   49    blue-collar   married  secondary      no      322      no   no   \n",
       "4514   38    blue-collar   married  secondary      no     1205     yes   no   \n",
       "4515   32       services    single  secondary      no      473     yes   no   \n",
       "4516   33       services   married  secondary      no     -333     yes   no   \n",
       "4517   57  self-employed   married   tertiary     yes    -3313     yes  yes   \n",
       "4518   57     technician   married  secondary      no      295      no   no   \n",
       "4519   28    blue-collar   married  secondary      no     1137      no   no   \n",
       "4520   44   entrepreneur    single   tertiary      no     1136     yes  yes   \n",
       "\n",
       "        contact  day month  duration  campaign  pdays  previous poutcome    y  \n",
       "0      cellular   19   oct        79         1     -1         0  unknown   no  \n",
       "1      cellular   11   may       220         1    339         4  failure   no  \n",
       "2      cellular   16   apr       185         1    330         1  failure   no  \n",
       "3       unknown    3   jun       199         4     -1         0  unknown   no  \n",
       "4       unknown    5   may       226         1     -1         0  unknown   no  \n",
       "5      cellular   23   feb       141         2    176         3  failure   no  \n",
       "6      cellular   14   may       341         1    330         2    other   no  \n",
       "7      cellular    6   may       151         2     -1         0  unknown   no  \n",
       "8       unknown   14   may        57         2     -1         0  unknown   no  \n",
       "9      cellular   17   apr       313         1    147         2  failure   no  \n",
       "10      unknown   20   may       273         1     -1         0  unknown   no  \n",
       "11     cellular   17   apr       113         2     -1         0  unknown   no  \n",
       "12     cellular   13   aug       328         2     -1         0  unknown   no  \n",
       "13     cellular   30   apr       261         1     -1         0  unknown  yes  \n",
       "14     cellular   29   jan        89         1    241         1  failure   no  \n",
       "15     cellular   29   aug       189         2     -1         0  unknown   no  \n",
       "16     cellular   27   aug       239         5     -1         0  unknown   no  \n",
       "17     cellular   20   apr       114         1    152         2  failure   no  \n",
       "18      unknown   23   may       250         1     -1         0  unknown   no  \n",
       "19     cellular    7   jul       148         1    152         1    other   no  \n",
       "20     cellular   18   nov        96         2     -1         0  unknown   no  \n",
       "21     cellular   19   nov       140         3     -1         0  unknown   no  \n",
       "22      unknown   12   jun       109         2     -1         0  unknown   no  \n",
       "23     cellular    7   jul       125         2     -1         0  unknown   no  \n",
       "24     cellular   30   jan       169         3     -1         0  unknown   no  \n",
       "25     cellular   20   nov       182         2     -1         0  unknown   no  \n",
       "26      unknown    5   may       247         1     -1         0  unknown   no  \n",
       "27    telephone   17   aug       119         1    105         2  failure   no  \n",
       "28     cellular   30   jul       149         2     -1         0  unknown   no  \n",
       "29     cellular   21   aug        74         2     -1         0  unknown   no  \n",
       "...         ...  ...   ...       ...       ...    ...       ...      ...  ...  \n",
       "4491   cellular   16   apr       169         1     -1         0  unknown   no  \n",
       "4492   cellular   16   apr       346         1    234         3  failure   no  \n",
       "4493    unknown    4   jun       205         6     -1         0  unknown   no  \n",
       "4494    unknown   28   may       576         3     -1         0  unknown  yes  \n",
       "4495  telephone   18   nov      1476         3     -1         0  unknown   no  \n",
       "4496   cellular   28   jul       171         3     -1         0  unknown   no  \n",
       "4497   cellular   20   nov       185         2     -1         0  unknown   no  \n",
       "4498    unknown   27   may       676         6     -1         0  unknown   no  \n",
       "4499   cellular   21   nov       362         1     -1         0  unknown   no  \n",
       "4500   cellular   12   may       193         2     -1         0  unknown   no  \n",
       "4501   cellular   26   aug        63         4     -1         0  unknown   no  \n",
       "4502   cellular    5   feb        43         1     -1         0  unknown   no  \n",
       "4503   cellular   29   jul       816         6     -1         0  unknown  yes  \n",
       "4504   cellular   13   may       951         3    370         4  failure  yes  \n",
       "4505    unknown   26   may      1234         3     -1         0  unknown  yes  \n",
       "4506   cellular   29   aug        85         4     -1         0  unknown   no  \n",
       "4507   cellular   17   apr       306         1     -1         0  unknown   no  \n",
       "4508    unknown   16   may       509         2     -1         0  unknown   no  \n",
       "4509   cellular   30   nov       210         3     -1         0  unknown   no  \n",
       "4510    unknown   20   may       129         2     -1         0  unknown   no  \n",
       "4511    unknown   15   may      1263         2     -1         0  unknown  yes  \n",
       "4512    unknown   29   may       660         2     -1         0  unknown   no  \n",
       "4513   cellular   14   aug       356         2     -1         0  unknown   no  \n",
       "4514   cellular   20   apr        45         4    153         1  failure   no  \n",
       "4515   cellular    7   jul       624         5     -1         0  unknown   no  \n",
       "4516   cellular   30   jul       329         5     -1         0  unknown   no  \n",
       "4517    unknown    9   may       153         1     -1         0  unknown   no  \n",
       "4518   cellular   19   aug       151        11     -1         0  unknown   no  \n",
       "4519   cellular    6   feb       129         4    211         3    other   no  \n",
       "4520   cellular    3   apr       345         2    249         7    other   no  \n",
       "\n",
       "[4521 rows x 17 columns]>"
      ]
     },
     "execution_count": 60,
     "metadata": {},
     "output_type": "execute_result"
    }
   ],
   "source": [
    "pd_data.info"
   ]
  },
  {
   "cell_type": "code",
   "execution_count": 61,
   "metadata": {},
   "outputs": [
    {
     "data": {
      "text/plain": [
       "(4521, 17)"
      ]
     },
     "execution_count": 61,
     "metadata": {},
     "output_type": "execute_result"
    }
   ],
   "source": [
    "pd_data.shape"
   ]
  },
  {
   "cell_type": "code",
   "execution_count": 66,
   "metadata": {},
   "outputs": [
    {
     "data": {
      "text/html": [
       "<div>\n",
       "<style>\n",
       "    .dataframe thead tr:only-child th {\n",
       "        text-align: right;\n",
       "    }\n",
       "\n",
       "    .dataframe thead th {\n",
       "        text-align: left;\n",
       "    }\n",
       "\n",
       "    .dataframe tbody tr th {\n",
       "        vertical-align: top;\n",
       "    }\n",
       "</style>\n",
       "<table border=\"1\" class=\"dataframe\">\n",
       "  <thead>\n",
       "    <tr style=\"text-align: right;\">\n",
       "      <th></th>\n",
       "      <th>age</th>\n",
       "      <th>balance</th>\n",
       "      <th>day</th>\n",
       "      <th>duration</th>\n",
       "      <th>campaign</th>\n",
       "      <th>pdays</th>\n",
       "      <th>previous</th>\n",
       "    </tr>\n",
       "  </thead>\n",
       "  <tbody>\n",
       "    <tr>\n",
       "      <th>count</th>\n",
       "      <td>4521.000000</td>\n",
       "      <td>4521.000000</td>\n",
       "      <td>4521.000000</td>\n",
       "      <td>4521.000000</td>\n",
       "      <td>4521.000000</td>\n",
       "      <td>4521.000000</td>\n",
       "      <td>4521.000000</td>\n",
       "    </tr>\n",
       "    <tr>\n",
       "      <th>mean</th>\n",
       "      <td>41.170095</td>\n",
       "      <td>1422.657819</td>\n",
       "      <td>15.915284</td>\n",
       "      <td>263.961292</td>\n",
       "      <td>2.793630</td>\n",
       "      <td>39.766645</td>\n",
       "      <td>0.542579</td>\n",
       "    </tr>\n",
       "    <tr>\n",
       "      <th>std</th>\n",
       "      <td>10.576211</td>\n",
       "      <td>3009.638142</td>\n",
       "      <td>8.247667</td>\n",
       "      <td>259.856633</td>\n",
       "      <td>3.109807</td>\n",
       "      <td>100.121124</td>\n",
       "      <td>1.693562</td>\n",
       "    </tr>\n",
       "    <tr>\n",
       "      <th>min</th>\n",
       "      <td>19.000000</td>\n",
       "      <td>-3313.000000</td>\n",
       "      <td>1.000000</td>\n",
       "      <td>4.000000</td>\n",
       "      <td>1.000000</td>\n",
       "      <td>-1.000000</td>\n",
       "      <td>0.000000</td>\n",
       "    </tr>\n",
       "    <tr>\n",
       "      <th>25%</th>\n",
       "      <td>33.000000</td>\n",
       "      <td>69.000000</td>\n",
       "      <td>9.000000</td>\n",
       "      <td>104.000000</td>\n",
       "      <td>1.000000</td>\n",
       "      <td>-1.000000</td>\n",
       "      <td>0.000000</td>\n",
       "    </tr>\n",
       "    <tr>\n",
       "      <th>50%</th>\n",
       "      <td>39.000000</td>\n",
       "      <td>444.000000</td>\n",
       "      <td>16.000000</td>\n",
       "      <td>185.000000</td>\n",
       "      <td>2.000000</td>\n",
       "      <td>-1.000000</td>\n",
       "      <td>0.000000</td>\n",
       "    </tr>\n",
       "    <tr>\n",
       "      <th>75%</th>\n",
       "      <td>49.000000</td>\n",
       "      <td>1480.000000</td>\n",
       "      <td>21.000000</td>\n",
       "      <td>329.000000</td>\n",
       "      <td>3.000000</td>\n",
       "      <td>-1.000000</td>\n",
       "      <td>0.000000</td>\n",
       "    </tr>\n",
       "    <tr>\n",
       "      <th>max</th>\n",
       "      <td>87.000000</td>\n",
       "      <td>71188.000000</td>\n",
       "      <td>31.000000</td>\n",
       "      <td>3025.000000</td>\n",
       "      <td>50.000000</td>\n",
       "      <td>871.000000</td>\n",
       "      <td>25.000000</td>\n",
       "    </tr>\n",
       "  </tbody>\n",
       "</table>\n",
       "</div>"
      ],
      "text/plain": [
       "               age       balance          day     duration     campaign  \\\n",
       "count  4521.000000   4521.000000  4521.000000  4521.000000  4521.000000   \n",
       "mean     41.170095   1422.657819    15.915284   263.961292     2.793630   \n",
       "std      10.576211   3009.638142     8.247667   259.856633     3.109807   \n",
       "min      19.000000  -3313.000000     1.000000     4.000000     1.000000   \n",
       "25%      33.000000     69.000000     9.000000   104.000000     1.000000   \n",
       "50%      39.000000    444.000000    16.000000   185.000000     2.000000   \n",
       "75%      49.000000   1480.000000    21.000000   329.000000     3.000000   \n",
       "max      87.000000  71188.000000    31.000000  3025.000000    50.000000   \n",
       "\n",
       "             pdays     previous  \n",
       "count  4521.000000  4521.000000  \n",
       "mean     39.766645     0.542579  \n",
       "std     100.121124     1.693562  \n",
       "min      -1.000000     0.000000  \n",
       "25%      -1.000000     0.000000  \n",
       "50%      -1.000000     0.000000  \n",
       "75%      -1.000000     0.000000  \n",
       "max     871.000000    25.000000  "
      ]
     },
     "execution_count": 66,
     "metadata": {},
     "output_type": "execute_result"
    }
   ],
   "source": [
    "pd_data.describe()"
   ]
  },
  {
   "cell_type": "code",
   "execution_count": 67,
   "metadata": {},
   "outputs": [
    {
     "name": "stdout",
     "output_type": "stream",
     "text": [
      "<class 'pandas.core.frame.DataFrame'>\n",
      "RangeIndex: 4521 entries, 0 to 4520\n",
      "Data columns (total 17 columns):\n",
      "age          4521 non-null int64\n",
      "job          4521 non-null object\n",
      "marital      4521 non-null object\n",
      "education    4521 non-null object\n",
      "default      4521 non-null object\n",
      "balance      4521 non-null int64\n",
      "housing      4521 non-null object\n",
      "loan         4521 non-null object\n",
      "contact      4521 non-null object\n",
      "day          4521 non-null int64\n",
      "month        4521 non-null object\n",
      "duration     4521 non-null int64\n",
      "campaign     4521 non-null int64\n",
      "pdays        4521 non-null int64\n",
      "previous     4521 non-null int64\n",
      "poutcome     4521 non-null object\n",
      "y            4521 non-null object\n",
      "dtypes: int64(7), object(10)\n",
      "memory usage: 600.5+ KB\n"
     ]
    }
   ],
   "source": [
    "pd_data.info()"
   ]
  },
  {
   "cell_type": "code",
   "execution_count": null,
   "metadata": {
    "collapsed": true
   },
   "outputs": [],
   "source": []
  }
 ],
 "metadata": {
  "kernelspec": {
   "display_name": "Python 3",
   "language": "python",
   "name": "python3"
  },
  "language_info": {
   "codemirror_mode": {
    "name": "ipython",
    "version": 3
   },
   "file_extension": ".py",
   "mimetype": "text/x-python",
   "name": "python",
   "nbconvert_exporter": "python",
   "pygments_lexer": "ipython3",
   "version": "3.6.2"
  }
 },
 "nbformat": 4,
 "nbformat_minor": 2
}

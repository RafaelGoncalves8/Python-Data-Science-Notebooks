{
 "cells": [
  {
   "cell_type": "markdown",
   "metadata": {},
   "source": [
    "# Index"
   ]
  },
  {
   "cell_type": "markdown",
   "metadata": {},
   "source": [
    "1. Machine Learning\n",
    "    - Linear Regression\n",
    "    - Example of Multivariate Linear Regression\n",
    "    - Logistic Regression\n",
    "    - Example of One-vs-all Logistic Regression\n",
    "2"
   ]
  },
  {
   "cell_type": "markdown",
   "metadata": {},
   "source": [
    "# Notation"
   ]
  },
  {
   "cell_type": "markdown",
   "metadata": {},
   "source": [
    "$a$ - 1D variable  \n",
    "$A$ - 1D constant  \n",
    "$\\mathbf{a}$ - 2D Column vector (nx1)  \n",
    "$\\mathbf{A}$ - 2D Matrix  "
   ]
  },
  {
   "cell_type": "markdown",
   "metadata": {},
   "source": [
    "$\\mathbf{a}^T$ - Row vector (1xn)  \n",
    "$\\mathbf{A}^T$ - Transpose matrix  \n",
    "$\\mathbf{A}^{-1}$ - Inverse matrix  \n",
    "$\\mathbf{A}^n$ - nth power of A (A\\*A\\*...A n times)  \n",
    "$\\mathbf{A^n}$ - Elementwise nth power of A"
   ]
  },
  {
   "cell_type": "markdown",
   "metadata": {},
   "source": [
    "$\\mathbf{0_{n}}$ - n-columns vector of zeros  \n",
    "$\\mathbf{1_{n}}$ - n-columns vector of ones"
   ]
  },
  {
   "cell_type": "markdown",
   "metadata": {},
   "source": [
    "$\\mathbf{0_{mxn}}$ - mxn matrix of zeros  \n",
    "$\\mathbf{1_{mxn}}$ - mxn matrix of ones  \n",
    "$\\mathbf{I_n} = \\mathbf{I_{nxn}}$ - nxn identity matrix (eye)"
   ]
  },
  {
   "cell_type": "markdown",
   "metadata": {},
   "source": [
    "$\\mathbf{A}\\cdot\\mathbf{B}=\\mathbf{A}\\mathbf{B}$ - Inner product  \n",
    "$\\mathbf{A}\\times\\mathbf{B}$ - Outer product  \n",
    "$\\mathbf{A} * \\mathbf{B}$ - Convolution  \n",
    "$\\mathbf{A} \\odot \\mathbf{B}$ - Elementwise multiplication (Hadamard product)"
   ]
  },
  {
   "cell_type": "markdown",
   "metadata": {
    "collapsed": true
   },
   "source": [
    "$\\mathbf{A} / \\mathbf{B} = \\frac{\\mathbf{A}}{\\mathbf{B}}$ - Division  \n",
    "\n",
    "$\\mathbf{A} \\oslash \\mathbf{B}$ - Elementwise division"
   ]
  },
  {
   "cell_type": "code",
   "execution_count": null,
   "metadata": {
    "collapsed": true
   },
   "outputs": [],
   "source": []
  }
 ],
 "metadata": {
  "kernelspec": {
   "display_name": "Python 3",
   "language": "python",
   "name": "python3"
  },
  "language_info": {
   "codemirror_mode": {
    "name": "ipython",
    "version": 3
   },
   "file_extension": ".py",
   "mimetype": "text/x-python",
   "name": "python",
   "nbconvert_exporter": "python",
   "pygments_lexer": "ipython3",
   "version": "3.6.3"
  }
 },
 "nbformat": 4,
 "nbformat_minor": 2
}

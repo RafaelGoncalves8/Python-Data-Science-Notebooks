{
 "cells": [
  {
   "cell_type": "code",
   "execution_count": 2,
   "metadata": {
    "collapsed": true
   },
   "outputs": [],
   "source": [
    "%matplotlib inline\n",
    "\n",
    "import random\n",
    "import numpy as np\n",
    "import matplotlib.pyplot as plt"
   ]
  },
  {
   "cell_type": "markdown",
   "metadata": {},
   "source": [
    "Logistic regression is a supervised learning (has labeled data as input) algorithm for classification. The algorithm is fed with samples - with multiple features and it's corresponding classes (labels)."
   ]
  },
  {
   "cell_type": "markdown",
   "metadata": {},
   "source": [
    "- $M$ - Number of samples\n",
    "- $N$ - Number of features\n",
    "- $\\boldsymbol{\\theta}$ - Vector of minimizing parameters\n",
    "- $\\mathbf{X}$ - Matrix of features (columns) per samples (rows)\n",
    "- $\\mathbf{y}$ - Vector of corresponding labels"
   ]
  },
  {
   "cell_type": "code",
   "execution_count": 33,
   "metadata": {},
   "outputs": [
    {
     "name": "stdout",
     "output_type": "stream",
     "text": [
      "    x1    |     x2    |     y    \n",
      "   2.9477 |    2.0474 |    1.0000\n",
      "   0.7095 |    3.1849 |    1.0000\n",
      "   4.4087 |    1.6310 |    1.0000\n",
      "   2.7801 |    1.3795 |    1.0000\n",
      "   2.6736 |    2.2925 |    1.0000\n",
      "   2.7311 |    3.1724 |    1.0000\n",
      "   1.3005 |    1.9220 |    1.0000\n",
      "   3.1344 |    2.7085 |    1.0000\n",
      "   1.1177 |    1.8724 |    1.0000\n",
      "   2.8440 |    3.2926 |    1.0000\n",
      "   2.6605 |    1.8652 |    1.0000\n",
      "   3.7755 |    2.9726 |    1.0000\n",
      "  -0.3462 |    3.5364 |    1.0000\n",
      "   3.3489 |    2.5991 |    1.0000\n",
      "   0.8206 |    6.3313 |    1.0000\n",
      "   3.5615 |    2.1714 |    1.0000\n",
      "   3.3180 |    3.7777 |    1.0000\n",
      "   3.1442 |    4.2064 |    1.0000\n",
      "   2.3228 |    5.4541 |    1.0000\n",
      "   0.7142 |    2.3078 |    1.0000\n",
      "  -0.7385 |    1.5533 |    1.0000\n",
      "   2.1083 |    1.9211 |    1.0000\n",
      "   3.1033 |    1.7400 |    1.0000\n",
      "   4.3744 |    0.5720 |    1.0000\n",
      "   0.8781 |    0.9516 |    1.0000\n",
      "   1.0905 |    3.4987 |    1.0000\n",
      "   1.5336 |    4.5676 |    1.0000\n",
      "   4.1041 |    3.6718 |    1.0000\n",
      "   1.1276 |    1.9936 |    1.0000\n",
      "   4.9052 |    3.1781 |    1.0000\n",
      "   3.9329 |    4.2976 |    1.0000\n",
      "   1.9946 |    2.2114 |    1.0000\n",
      "   0.9732 |    2.5446 |    1.0000\n",
      "   3.6218 |    1.9867 |    1.0000\n",
      "   2.2077 |    1.8417 |    1.0000\n",
      "   1.9082 |    1.4636 |    1.0000\n",
      "   1.7575 |    1.2894 |    1.0000\n",
      "   0.2759 |    3.6811 |    1.0000\n",
      "   2.9105 |    3.0499 |    1.0000\n",
      "   1.1022 |    1.9656 |    1.0000\n",
      "   1.0281 |    3.5761 |    1.0000\n",
      "   2.2596 |    3.8397 |    1.0000\n",
      "   4.3092 |    4.0254 |    1.0000\n",
      "   2.2112 |    2.9789 |    1.0000\n",
      "   0.9143 |    2.6825 |    1.0000\n",
      "   2.1353 |    1.8037 |    1.0000\n",
      "   1.7697 |    1.7740 |    1.0000\n",
      "   2.9749 |    3.8438 |    1.0000\n",
      "   0.9247 |    2.9540 |    1.0000\n",
      "   2.6201 |   -0.0056 |    1.0000\n",
      "   0.2286 |   -1.7552 |    0.0000\n",
      "   0.8363 |   -2.4771 |    0.0000\n",
      "   2.5129 |    0.0759 |    0.0000\n",
      "  -0.4403 |   -2.5305 |    0.0000\n",
      "   0.1564 |   -3.3084 |    0.0000\n",
      "   0.1972 |   -2.3695 |    0.0000\n",
      "  -0.1635 |   -0.2997 |    0.0000\n",
      "  -1.7526 |   -1.9082 |    0.0000\n",
      "  -0.2214 |   -0.4534 |    0.0000\n",
      "  -0.4403 |   -0.9481 |    0.0000\n",
      "   3.4485 |   -1.3133 |    0.0000\n",
      "   1.0408 |   -2.9919 |    0.0000\n",
      "  -0.2541 |   -0.3226 |    0.0000\n",
      "   1.4029 |    0.1525 |    0.0000\n",
      "  -0.5616 |    0.4649 |    0.0000\n",
      "   0.8190 |   -1.1126 |    0.0000\n",
      "  -0.0194 |   -1.1102 |    0.0000\n",
      "  -0.4529 |   -2.1141 |    0.0000\n",
      "  -0.8914 |   -1.4098 |    0.0000\n",
      "  -0.6479 |   -1.3162 |    0.0000\n",
      "   1.9848 |   -3.1015 |    0.0000\n",
      "   0.6891 |   -2.1155 |    0.0000\n",
      "  -1.1240 |   -1.4260 |    0.0000\n",
      "   2.5978 |   -1.7277 |    0.0000\n",
      "   1.7881 |   -0.3484 |    0.0000\n",
      "   0.5311 |    0.6408 |    0.0000\n",
      "   1.7141 |   -1.2467 |    0.0000\n",
      "   0.0866 |   -1.7713 |    0.0000\n",
      "   0.2014 |   -0.8312 |    0.0000\n",
      "  -0.7197 |   -0.1078 |    0.0000\n",
      "  -0.8914 |   -0.2816 |    0.0000\n",
      "  -1.1888 |   -2.2640 |    0.0000\n",
      "   0.7544 |   -1.2406 |    0.0000\n",
      "   2.5389 |   -1.5211 |    0.0000\n",
      "  -1.1620 |   -0.7986 |    0.0000\n",
      "  -2.0274 |   -1.0864 |    0.0000\n",
      "   1.7067 |   -0.4513 |    0.0000\n",
      "   1.3680 |   -1.2365 |    0.0000\n",
      "   1.8893 |   -1.3300 |    0.0000\n",
      "  -1.2506 |   -1.2148 |    0.0000\n",
      "  -0.8255 |    1.7238 |    0.0000\n",
      "  -2.9373 |   -1.4995 |    0.0000\n",
      "   0.7796 |   -0.9003 |    0.0000\n",
      "   1.7473 |   -2.2059 |    0.0000\n",
      "  -1.5797 |   -4.6401 |    0.0000\n",
      "   3.3404 |   -1.2884 |    0.0000\n",
      "  -0.3420 |   -0.8582 |    0.0000\n",
      "   0.8886 |   -2.7682 |    0.0000\n",
      "   0.7291 |   -0.9255 |    0.0000\n",
      "   2.2980 |   -2.7845 |    0.0000\n"
     ]
    }
   ],
   "source": [
    "M = 100\n",
    "M_half = 50\n",
    "N = 2\n",
    "\n",
    "X1 = np.array([[random.gauss(2,1.25), random.gauss(3,1.25)] for i in range(M_half)])\n",
    "y1 = np.array((M_half)*[1])\n",
    "\n",
    "X2 = np.array([[random.gauss(0,1.25), random.gauss(-1,1.25)] for i in range(M_half)])\n",
    "y2 = np.array((M_half)*[0])\n",
    "\n",
    "X = np.vstack([X1, X2])\n",
    "y = np.hstack([y1.T, y2.T])\n",
    "\n",
    "print(\"    x1    |     x2    |     y    \")\n",
    "for i in range(M):\n",
    "    print(\"%9.4f | %9.4f | %9.4f\" % (X[i,0], X[i,1], y[i]))"
   ]
  },
  {
   "cell_type": "code",
   "execution_count": 34,
   "metadata": {},
   "outputs": [
    {
     "data": {
      "image/png": "[encoded data removed]",
      "text/plain": [
       "<matplotlib.figure.Figure at 0x7f77df78fa20>"
      ]
     },
     "metadata": {},
     "output_type": "display_data"
    }
   ],
   "source": [
    "plt.plot(X[:M_half,0], X[:M_half,1], 'x'), plt.xlabel('x0'), plt.ylabel('x1')\n",
    "plt.plot(X[M_half:,0], X[M_half:,1], 'o'), plt.xlabel('x0'), plt.ylabel('x1')\n",
    "plt.show()"
   ]
  },
  {
   "cell_type": "code",
   "execution_count": null,
   "metadata": {
    "collapsed": true
   },
   "outputs": [],
   "source": []
  }
 ],
 "metadata": {
  "kernelspec": {
   "display_name": "Python 3",
   "language": "python",
   "name": "python3"
  },
  "language_info": {
   "codemirror_mode": {
    "name": "ipython",
    "version": 3
   },
   "file_extension": ".py",
   "mimetype": "text/x-python",
   "name": "python",
   "nbconvert_exporter": "python",
   "pygments_lexer": "ipython3",
   "version": "3.6.4"
  }
 },
 "nbformat": 4,
 "nbformat_minor": 2
}

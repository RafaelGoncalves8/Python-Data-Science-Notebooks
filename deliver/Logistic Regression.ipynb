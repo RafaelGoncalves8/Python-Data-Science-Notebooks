{
 "cells": [
  {
   "cell_type": "code",
   "execution_count": 1,
   "metadata": {
    "collapsed": true
   },
   "outputs": [],
   "source": [
    "%matplotlib inline\n",
    "\n",
    "import random\n",
    "import numpy as np\n",
    "import matplotlib.pyplot as plt"
   ]
  },
  {
   "cell_type": "markdown",
   "metadata": {},
   "source": [
    "Logistic regression is a supervised learning (has labeled data as input) algorithm for classification. The algorithm is fed with samples - with multiple features and it's corresponding classes (labels)."
   ]
  },
  {
   "cell_type": "markdown",
   "metadata": {},
   "source": [
    "- $M$ - Number of samples\n",
    "- $N$ - Number of features\n",
    "- $\\boldsymbol{\\theta}$ - Vector of minimizing parameters\n",
    "- $\\mathbf{X}$ - Matrix of features (columns) per samples (rows)\n",
    "- $\\mathbf{y}$ - Vector of corresponding labels"
   ]
  },
  {
   "cell_type": "code",
   "execution_count": 2,
   "metadata": {},
   "outputs": [
    {
     "name": "stdout",
     "output_type": "stream",
     "text": [
      "    x1    |     x2    |     y    \n",
      "   2.5270 |    2.9210 |    1.0000\n",
      "   0.3115 |    0.7692 |    1.0000\n",
      "   2.4461 |    3.7041 |    1.0000\n",
      "   3.0175 |    3.1358 |    1.0000\n",
      "   0.6816 |    5.1012 |    1.0000\n",
      "   4.0174 |    1.4410 |    1.0000\n",
      "   2.9419 |    0.8278 |    1.0000\n",
      "   2.4455 |    3.3914 |    1.0000\n",
      "   1.7599 |    3.9542 |    1.0000\n",
      "   5.6273 |    2.7891 |    1.0000\n",
      "   0.3197 |    1.2381 |    1.0000\n",
      "   1.0049 |    3.7864 |    1.0000\n",
      "   3.5490 |    2.8646 |    1.0000\n",
      "   1.9095 |    2.2998 |    1.0000\n",
      "   1.5508 |    3.4234 |    1.0000\n",
      "   2.6294 |    2.3684 |    1.0000\n",
      "   0.3369 |    2.5102 |    1.0000\n",
      "   1.0488 |    2.9464 |    1.0000\n",
      "   0.6809 |    6.2589 |    1.0000\n",
      "   1.1225 |    3.4220 |    1.0000\n",
      "   0.7985 |    4.0551 |    1.0000\n",
      "   3.2548 |    1.6197 |    1.0000\n",
      "   1.1985 |    2.8151 |    1.0000\n",
      "   2.5578 |    2.8430 |    1.0000\n",
      "   2.4867 |    2.6196 |    1.0000\n",
      "   3.1555 |    1.5753 |    1.0000\n",
      "   1.9293 |    4.4972 |    1.0000\n",
      "   2.7472 |    2.4714 |    1.0000\n",
      "   1.3746 |    2.6461 |    1.0000\n",
      "  -0.6479 |    2.2207 |    1.0000\n",
      "   0.7783 |    2.5045 |    1.0000\n",
      "   3.1735 |    3.6161 |    1.0000\n",
      "   1.5316 |    4.0664 |    1.0000\n",
      "   1.7663 |    2.1299 |    1.0000\n",
      "   1.1249 |    2.9789 |    1.0000\n",
      "   1.6145 |    3.5624 |    1.0000\n",
      "   2.6594 |    2.4810 |    1.0000\n",
      "   1.3669 |    1.0537 |    1.0000\n",
      "   3.0755 |    1.0770 |    1.0000\n",
      "   3.4759 |    2.3977 |    1.0000\n",
      "   2.6295 |    3.2237 |    1.0000\n",
      "   2.3116 |    1.8199 |    1.0000\n",
      "   2.6651 |    4.4074 |    1.0000\n",
      "   2.0179 |    3.8958 |    1.0000\n",
      "   1.0860 |    2.8443 |    1.0000\n",
      "   0.2298 |    5.8046 |    1.0000\n",
      "   1.1403 |    3.8651 |    1.0000\n",
      "   4.2953 |    3.4643 |    1.0000\n",
      "   1.1760 |    1.1534 |    1.0000\n",
      "   0.7578 |    1.8773 |    1.0000\n",
      "  -1.7074 |   -1.1123 |    0.0000\n",
      "   0.2092 |   -1.1690 |    0.0000\n",
      "  -1.4002 |    0.0192 |    0.0000\n",
      "   1.9024 |   -0.6506 |    0.0000\n",
      "   0.4429 |   -0.6884 |    0.0000\n",
      "  -2.1993 |   -2.3298 |    0.0000\n",
      "  -1.8809 |   -1.1260 |    0.0000\n",
      "   0.4446 |   -2.9031 |    0.0000\n",
      "   0.5813 |   -1.8222 |    0.0000\n",
      "  -1.5778 |   -3.0616 |    0.0000\n",
      "   1.4221 |   -1.9811 |    0.0000\n",
      "  -0.1040 |    0.1253 |    0.0000\n",
      "   0.3937 |   -1.3971 |    0.0000\n",
      "  -1.0359 |   -3.9224 |    0.0000\n",
      "  -0.2707 |   -2.3074 |    0.0000\n",
      "   0.0198 |   -0.1871 |    0.0000\n",
      "   1.5841 |   -2.5327 |    0.0000\n",
      "  -0.5661 |   -0.2878 |    0.0000\n",
      "  -0.0051 |    0.3153 |    0.0000\n",
      "  -0.1010 |   -1.2204 |    0.0000\n",
      "  -1.0177 |    0.6462 |    0.0000\n",
      "  -1.3049 |   -1.6856 |    0.0000\n",
      "  -0.5118 |   -1.4329 |    0.0000\n",
      "  -1.1411 |   -0.6018 |    0.0000\n",
      "  -2.1724 |    0.8692 |    0.0000\n",
      "   1.9760 |    0.1833 |    0.0000\n",
      "   0.2613 |   -1.1731 |    0.0000\n",
      "  -0.0413 |   -0.9413 |    0.0000\n",
      "   1.3659 |   -0.4122 |    0.0000\n",
      "   0.7596 |   -1.4863 |    0.0000\n",
      "  -0.8692 |   -1.0254 |    0.0000\n",
      "   0.2915 |    0.8740 |    0.0000\n",
      "   0.7445 |   -0.7415 |    0.0000\n",
      "  -0.9908 |   -1.6524 |    0.0000\n",
      "  -1.8489 |   -0.0875 |    0.0000\n",
      "  -1.0717 |   -2.2849 |    0.0000\n",
      "   1.4390 |   -0.1237 |    0.0000\n",
      "  -0.6034 |   -0.0085 |    0.0000\n",
      "  -0.3050 |   -1.1670 |    0.0000\n",
      "   1.0111 |    0.5498 |    0.0000\n",
      "  -0.8259 |    1.0362 |    0.0000\n",
      "  -1.4488 |   -2.1174 |    0.0000\n",
      "   2.3072 |   -0.1268 |    0.0000\n",
      "  -0.3545 |   -1.2834 |    0.0000\n",
      "   1.0406 |    0.5057 |    0.0000\n",
      "   0.4966 |   -2.5667 |    0.0000\n",
      "   1.2389 |   -1.6914 |    0.0000\n",
      "  -1.5623 |   -1.2260 |    0.0000\n",
      "  -2.0180 |   -1.5354 |    0.0000\n",
      "   1.2358 |   -2.1951 |    0.0000\n"
     ]
    }
   ],
   "source": [
    "M = 100\n",
    "M_half = 50\n",
    "N = 2\n",
    "\n",
    "X1 = np.array([[random.gauss(2,1.25), random.gauss(3,1.25)] for i in range(M_half)])\n",
    "y1 = np.array((M_half)*[1])\n",
    "\n",
    "X2 = np.array([[random.gauss(0,1.25), random.gauss(-1,1.25)] for i in range(M_half)])\n",
    "y2 = np.array((M_half)*[0])\n",
    "\n",
    "X = np.vstack([X1, X2])\n",
    "y = np.hstack([y1.T, y2.T])\n",
    "\n",
    "print(\"    x1    |     x2    |     y    \")\n",
    "for i in range(M):\n",
    "    print(\"%9.4f | %9.4f | %9.4f\" % (X[i,0], X[i,1], y[i]))"
   ]
  },
  {
   "cell_type": "code",
   "execution_count": 8,
   "metadata": {},
   "outputs": [
    {
     "data": {
      "image/png": "[encoded data removed]",
      "text/plain": [
       "<matplotlib.figure.Figure at 0x7f05ec947cc0>"
      ]
     },
     "metadata": {},
     "output_type": "display_data"
    }
   ],
   "source": [
    "plt.plot(X[:M_half,0], X[:M_half,1], 'X'), plt.xlabel('x0'), plt.ylabel('x1')\n",
    "plt.plot(X[M_half:,0], X[M_half:,1], 'o'), plt.xlabel('x0'), plt.ylabel('x1')\n",
    "plt.show()"
   ]
  },
  {
   "cell_type": "markdown",
   "metadata": {},
   "source": [
    "# Feature scaling (rescale and mean normalization)"
   ]
  },
  {
   "cell_type": "markdown",
   "metadata": {},
   "source": [
    "One way of feature scaling is to keep the average of each feature as a predefined number (e.g. 0) and scale the values between the range of values. We can define two vectors mu and delta for keeping these numbers:\n",
    "\n",
    "$$\\mu_n = \\frac{1}{M}\\sum\\limits_{m = 0}^M x_{mn}$$  \n",
    "$$\\delta_n = max(\\mathbf{x_n}) - min(\\mathbf{x_n})$$  \n",
    "$$x_{mn} \\leftarrow \\frac{x_{mn} - \\mu_{n}}{\\delta_n}$$  "
   ]
  },
  {
   "cell_type": "code",
   "execution_count": 4,
   "metadata": {},
   "outputs": [],
   "source": [
    "mu = np.array([np.average(X[:,0]), np.average(X[:,1])])\n",
    "delta = np.array([(np.max(X[:,0]) - np.min(X[:,0])), (np.max(X[:,1]) - np.min(X[:,1]))])\n",
    "\n",
    "X = (X - np.ones([M,1])*mu)*(np.ones([M,1])*(1/delta))"
   ]
  },
  {
   "cell_type": "code",
   "execution_count": 7,
   "metadata": {},
   "outputs": [
    {
     "data": {
      "image/png": "[encoded data removed]",
      "text/plain": [
       "<matplotlib.figure.Figure at 0x7f05eca9f588>"
      ]
     },
     "metadata": {},
     "output_type": "display_data"
    }
   ],
   "source": [
    "plt.plot(X[:M_half,0], X[:M_half,1], 'X'), plt.xlabel('x0'), plt.ylabel('x1')\n",
    "plt.plot(X[M_half:,0], X[M_half:,1], 'o'), plt.xlabel('x0'), plt.ylabel('x1')\n",
    "plt.show()"
   ]
  },
  {
   "cell_type": "markdown",
   "metadata": {},
   "source": [
    "# Hyphotesis and Cost function"
   ]
  },
  {
   "cell_type": "markdown",
   "metadata": {},
   "source": [
    "The objective of the logistic regression is to find a *hyphotesis function*  $\\mathbf{h_\\theta} = \\mathbf{h_\\theta (X)}$ - or the parameters of this function $\\boldsymbol{\\theta}$ - such as the *cost function* $v = v(\\mathbf{X}, \\mathbf{y}, \\boldsymbol{\\theta})$ - diference between predictions and labels - is minimized."
   ]
  },
  {
   "cell_type": "markdown",
   "metadata": {},
   "source": [
    "In linear regression, the most general hypothesis was:\n",
    "\n",
    "$$\\mathbf{h_\\theta} = \\theta_0 + \\theta_1x_1 + \\theta_2x_2 + ... + \\theta_Nx_N$$\n",
    "\n",
    "If we define an matrix $\\mathbf{X'}$ such as the first column (first feature) is always 1, then we can write:\n",
    "\n",
    "$$\\mathbf{h_\\theta} = \\sum \\limits_{n = 0}^N \\theta_nx'_n$$  \n",
    "\n",
    "or in vectorized notation:\n",
    "\n",
    "$$\\mathbf{h_\\theta} = \\mathbf{X'\\theta}$$"
   ]
  },
  {
   "cell_type": "markdown",
   "metadata": {},
   "source": [
    "In the case of logistic regression, it is best that the values range between 0 and 1, representing the probability of the selected point being marked as pertencent of the class (y = 1). We can use the logistic function (sigmoid) for the hypothesis:\n",
    "\n",
    "![Logistic Curve](https://upload.wikimedia.org/wikipedia/commons/thumb/8/88/Logistic-curve.svg/320px-Logistic-curve.svg.png)\n",
    "\n",
    "$$\\mathbf{g}(\\mathbf{z}) = \\frac{1}{1+e^{-\\mathbf{z}}} = \\frac{e^{\\mathbf{z}}}{e^{\\mathbf{z}}+1}$$"
   ]
  },
  {
   "cell_type": "markdown",
   "metadata": {},
   "source": [
    "So we can define the hypothesis as:\n",
    "\n",
    "$$\\mathbf{h_\\theta} = \\mathbf{g}(\\mathbf{X'}\\boldsymbol{\\theta}) = \\frac{1}{1+e^{-\\mathbf{X'}\\boldsymbol{\\theta}}}$$"
   ]
  },
  {
   "cell_type": "markdown",
   "metadata": {},
   "source": [
    "One possibility of cost function for a hypothis ranging between 0 and 1 is to use the *Cross-entropy cost* formula:  \n",
    "\n",
    "$$v = -\\frac{1}{2M}\\sum \\limits_{m = 1}^{M}[y_m log(h_\\theta(\\mathbf{x_m})) + (1-y_m)log(1 - h_\\theta(\\mathbf{x_m}))]$$  \n",
    "\n",
    "Or in the vectorized notation (thus less computacionaly demanding):  \n",
    "\n",
    "$$v = -\\frac{1}{2M}[\\mathbf{y} log(\\mathbf{h_\\theta}) + (\\mathbf{1_m}-\\mathbf{y})log(\\mathbf{1_m} - \\mathbf{h_\\theta})]$$ "
   ]
  },
  {
   "cell_type": "code",
   "execution_count": null,
   "metadata": {
    "collapsed": true
   },
   "outputs": [],
   "source": []
  }
 ],
 "metadata": {
  "kernelspec": {
   "display_name": "Python 3",
   "language": "python",
   "name": "python3"
  },
  "language_info": {
   "codemirror_mode": {
    "name": "ipython",
    "version": 3
   },
   "file_extension": ".py",
   "mimetype": "text/x-python",
   "name": "python",
   "nbconvert_exporter": "python",
   "pygments_lexer": "ipython3",
   "version": "3.6.4"
  }
 },
 "nbformat": 4,
 "nbformat_minor": 2
}
